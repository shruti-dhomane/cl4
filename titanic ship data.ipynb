{
 "cells": [
  {
   "cell_type": "code",
   "execution_count": 2,
   "id": "9166e636",
   "metadata": {},
   "outputs": [
    {
     "name": "stdout",
     "output_type": "stream",
     "text": [
      "Average age of males who died: 31.62\n",
      "Number of deceased females in each class:\n",
      "3    72\n",
      "2     6\n",
      "1     3\n",
      "Name: Pclass, dtype: int64\n"
     ]
    }
   ],
   "source": [
    "import pandas as pd\n",
    "\n",
    "def map_reduce_with_pandas(file_path):\n",
    "    df = pd.read_csv(file_path)\n",
    "    \n",
    "    deceased_males = df[(df['Survived'] == 0) & (df['Sex'] == 'male')]\n",
    "    average_age_deceased_males = deceased_males['Age'].mean()\n",
    "    \n",
    "    deceased_females_by_class = df[(df['Survived'] == 0) & (df['Sex'] == 'female')]\n",
    "    count_deceased_females_by_class = deceased_females_by_class['Pclass'].value_counts()\n",
    "    \n",
    "    return average_age_deceased_males, count_deceased_females_by_class\n",
    "\n",
    "input_file = r\"C:\\Users\\hp\\Downloads\\Titanic-Dataset.csv\"  # Update this to the path of your Titanic dataset CSV file\n",
    "average_age, female_class_count = map_reduce_with_pandas(input_file)\n",
    "print(f\"Average age of males who died: {average_age:.2f}\")\n",
    "print(\"Number of deceased females in each class:\")\n",
    "print(female_class_count)\n"
   ]
  },
  {
   "cell_type": "code",
   "execution_count": null,
   "id": "7716cd7c",
   "metadata": {},
   "outputs": [],
   "source": []
  }
 ],
 "metadata": {
  "kernelspec": {
   "display_name": "Python 3 (ipykernel)",
   "language": "python",
   "name": "python3"
  },
  "language_info": {
   "codemirror_mode": {
    "name": "ipython",
    "version": 3
   },
   "file_extension": ".py",
   "mimetype": "text/x-python",
   "name": "python",
   "nbconvert_exporter": "python",
   "pygments_lexer": "ipython3",
   "version": "3.9.13"
  }
 },
 "nbformat": 4,
 "nbformat_minor": 5
}
